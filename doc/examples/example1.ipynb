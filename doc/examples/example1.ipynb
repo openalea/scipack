{
 "cells": [
  {
   "cell_type": "markdown",
   "id": "2c12aee5",
   "metadata": {},
   "source": [
    "# Basic usage of scipack"
   ]
  }
 ],
 "metadata": {
  "language_info": {
   "name": "python"
  }
 },
 "nbformat": 4,
 "nbformat_minor": 5
}
