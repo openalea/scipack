{
 "cells": [
  {
   "cell_type": "markdown",
   "id": "d6f2043d",
   "metadata": {},
   "source": [
    "# Advanced usage of scipack"
   ]
  },
  {
   "cell_type": "markdown",
   "id": "ee85c79f",
   "metadata": {},
   "source": []
  }
 ],
 "metadata": {
  "language_info": {
   "name": "python"
  }
 },
 "nbformat": 4,
 "nbformat_minor": 5
}
